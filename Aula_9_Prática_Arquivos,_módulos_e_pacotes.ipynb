{
  "nbformat": 4,
  "nbformat_minor": 0,
  "metadata": {
    "colab": {
      "provenance": [],
      "include_colab_link": true
    },
    "kernelspec": {
      "name": "python3",
      "display_name": "Python 3"
    },
    "language_info": {
      "name": "python"
    }
  },
  "cells": [
    {
      "cell_type": "markdown",
      "metadata": {
        "id": "view-in-github",
        "colab_type": "text"
      },
      "source": [
        "<a href=\"https://colab.research.google.com/github/BeatrizPCandido/Imers-o-Agentes-de-IA---Alura-Google-Gemini/blob/main/Aula_9_Pr%C3%A1tica_Arquivos%2C_m%C3%B3dulos_e_pacotes.ipynb\" target=\"_parent\"><img src=\"https://colab.research.google.com/assets/colab-badge.svg\" alt=\"Open In Colab\"/></a>"
      ]
    },
    {
      "cell_type": "markdown",
      "source": [
        "# 📚 Aula Prática – Arquivos, Pacotes e Módulos"
      ],
      "metadata": {
        "id": "ZjfA_auiiuob"
      }
    },
    {
      "cell_type": "markdown",
      "source": [
        "## Tema: Arquivos, Módulos e Pacotes (os, random, faker, requests, BeautifulSoup)\n",
        "\n",
        "## Objetivo da aula: Criar, organizar, analisar e coletar informações em diferentes contextos com Python."
      ],
      "metadata": {
        "id": "YI0rdZaOpJgD"
      }
    },
    {
      "cell_type": "markdown",
      "source": [
        "ℹ️ Lembretes:\n",
        "\n",
        "- O sistema de arquivos do Colab é temporário. Se quiser salvar os arquivos, baixe-os para seu computador ou conecte seu Google Drive.\n",
        "\n",
        "- Utilize `%%writefile` para criar módulos\n",
        "\n",
        "- Use código Python para criar pastas e arquivos."
      ],
      "metadata": {
        "id": "omuz2q1XiwHM"
      }
    },
    {
      "cell_type": "markdown",
      "source": [
        "## Nível Básico – Aquecimento"
      ],
      "metadata": {
        "id": "x_raQVcRjExD"
      }
    },
    {
      "cell_type": "markdown",
      "source": [
        "### Exercício 1 – Cadastro de alunas (usando `faker` e `random`)\n",
        "\n",
        "- Imagine que você é responsável por organizar uma lista de alunas para um curso.\n",
        "\n",
        "- Use a biblioteca `faker` para gerar pelo menos 30 nomes de alunas.\n",
        "\n",
        "- Para cada aluna, crie também um número de matrícula aleatório (por exemplo, entre 1000 e 9999).\n",
        "\n",
        "- Salve os dados em um arquivo chamado alunas.txt, com o formato: `Nome - Matrícula`\n",
        "\n",
        "\n",
        "\n"
      ],
      "metadata": {
        "id": "kQhBJqnMphQX"
      }
    },
    {
      "cell_type": "code",
      "execution_count": 4,
      "metadata": {
        "colab": {
          "base_uri": "https://localhost:8080/"
        },
        "collapsed": true,
        "id": "RjXgIIkjS13V",
        "outputId": "021e0a7f-a8cf-4253-f3f8-446161958ba5"
      },
      "outputs": [
        {
          "output_type": "stream",
          "name": "stdout",
          "text": [
            "Collecting faker\n",
            "  Downloading faker-37.8.0-py3-none-any.whl.metadata (15 kB)\n",
            "Requirement already satisfied: tzdata in /usr/local/lib/python3.12/dist-packages (from faker) (2025.2)\n",
            "Downloading faker-37.8.0-py3-none-any.whl (2.0 MB)\n",
            "\u001b[2K   \u001b[90m━━━━━━━━━━━━━━━━━━━━━━━━━━━━━━━━━━━━━━━━\u001b[0m \u001b[32m2.0/2.0 MB\u001b[0m \u001b[31m11.1 MB/s\u001b[0m eta \u001b[36m0:00:00\u001b[0m\n",
            "\u001b[?25hInstalling collected packages: faker\n",
            "Successfully installed faker-37.8.0\n"
          ]
        }
      ],
      "source": [
        "# @title\n",
        "!pip install faker"
      ]
    },
    {
      "cell_type": "code",
      "source": [
        "from faker import Faker\n",
        "import random\n",
        "\n",
        "fake = Faker('pt_BR')\n",
        "\n",
        "with open(\"alunas.txt\", \"w\", encoding=\"utf-8\") as arquivo:\n",
        "  for _ in range(30):\n",
        "    nome = fake.name_female()\n",
        "    matricula = random.randint(1000, 9999)\n",
        "    linha_arquivo = f\"{nome} - {matricula}\\n\"\n",
        "    arquivo.write(linha_arquivo)\n",
        "    print(linha_arquivo)\n",
        "\n",
        "     #print(linha_arquivo)\n",
        "\n",
        "\n"
      ],
      "metadata": {
        "colab": {
          "base_uri": "https://localhost:8080/"
        },
        "collapsed": true,
        "id": "mAGCLzwz75H6",
        "outputId": "f49cc6bd-6a0f-4f23-c4a7-02a3752d6d42"
      },
      "execution_count": 8,
      "outputs": [
        {
          "output_type": "stream",
          "name": "stdout",
          "text": [
            "Maria Fernanda Moreira - 6490\n",
            "\n",
            "Bianca Cassiano - 9686\n",
            "\n",
            "Zoe Macedo - 7798\n",
            "\n",
            "Sra. Maysa Carvalho - 8300\n",
            "\n",
            "Mariana Sampaio - 9748\n",
            "\n",
            "Isabelly Vieira - 3757\n",
            "\n",
            "Liz da Cruz - 5029\n",
            "\n",
            "Evelyn Rios - 3068\n",
            "\n",
            "Ana Júlia Pacheco - 3049\n",
            "\n",
            "Sra. Hadassa Ferreira - 8759\n",
            "\n",
            "Sra. Esther Alves - 6016\n",
            "\n",
            "Aurora Novaes - 7331\n",
            "\n",
            "Sra. Kamilly Campos - 5803\n",
            "\n",
            "Maria Luísa Borges - 4079\n",
            "\n",
            "Kamilly Silva - 2582\n",
            "\n",
            "Laura Freitas - 3848\n",
            "\n",
            "Milena Cassiano - 7721\n",
            "\n",
            "Liz Vargas - 2516\n",
            "\n",
            "Evelyn Moreira - 4340\n",
            "\n",
            "Ana Laura Lima - 5752\n",
            "\n",
            "Lívia Lopes - 4295\n",
            "\n",
            "Cecília da Costa - 6161\n",
            "\n",
            "Isabel Gomes - 4258\n",
            "\n",
            "Stella Silva - 7320\n",
            "\n",
            "Isabel da Paz - 2123\n",
            "\n",
            "Bruna Vieira - 9094\n",
            "\n",
            "Marcela Pacheco - 3236\n",
            "\n",
            "Ana Luiza Lopes - 1260\n",
            "\n",
            "Gabriela Sales - 4473\n",
            "\n",
            "Maria Liz Vasconcelos - 6878\n",
            "\n"
          ]
        }
      ]
    },
    {
      "cell_type": "markdown",
      "source": [
        "### Exercício 2 – Analisando números de uma pesquisa (usando random)\n",
        "\n",
        "Você está ajudando em uma pesquisa que deseja coletar 200 respostas numéricas (valores entre 1 e 1000).\n",
        "\n",
        "1. Gere esses números aleatórios e salve-os em um arquivo numeros.txt.\n",
        "\n",
        "2. Escreva um programa que leia o arquivo e descubra: Qual foi a menor resposta registrada? Qual foi a maior resposta registrada?\n",
        "\n",
        "Esse tipo de análise é importante para entender extremos em pesquisas ou levantamentos de dados."
      ],
      "metadata": {
        "id": "3L50bq3zp7US"
      }
    },
    {
      "cell_type": "code",
      "source": [
        "#1: Gerar os números aleatórios e salvar no arquivo\n",
        "import random\n",
        "\n",
        "numeros = [random.randint(1, 1000) for _ in range(200)]\n",
        "\n",
        "#salvar os numeros no arquivo  numeros.txt\n",
        "with open(\"numeros.txt\", \"w\") as arquivo:\n",
        "  for numero in numeros:\n",
        "    arquivo.write(f\"{numero}\\n\")\n",
        "print(\"Números gerados e salvos no arquivo 'numeros.txt'.\")"
      ],
      "metadata": {
        "id": "iJMNq3g_ivOS",
        "colab": {
          "base_uri": "https://localhost:8080/"
        },
        "outputId": "f2338e77-592b-4298-801f-362a7ad5a051"
      },
      "execution_count": 9,
      "outputs": [
        {
          "output_type": "stream",
          "name": "stdout",
          "text": [
            "Números gerados e salvos no arquivo 'numeros.txt'.\n"
          ]
        }
      ]
    },
    {
      "cell_type": "code",
      "source": [
        "#2: Ler o arquivo e encontrar o menor e o maior número\n",
        "# Ler os números do arquivo\n",
        "with open(\"numeros.txt\", \"r\") as arquivo:\n",
        "    conteudo = arquivo.readlines()\n",
        "    respostas = [int(linha.strip()) for linha in conteudo]\n",
        "\n",
        "# Encontrar os extremos\n",
        "menor = min(respostas)\n",
        "maior = max(respostas)\n",
        "\n",
        "print(f\"A menor resposta registrada foi: {menor}\")\n",
        "print(f\"A maior resposta registrada foi: {maior}\")\n"
      ],
      "metadata": {
        "colab": {
          "base_uri": "https://localhost:8080/"
        },
        "id": "UXNyIuD2CuQO",
        "outputId": "53eacc19-2067-4eb7-ce5d-aa464e46f90a"
      },
      "execution_count": 11,
      "outputs": [
        {
          "output_type": "stream",
          "name": "stdout",
          "text": [
            "A menor resposta registrada foi: 1\n",
            "A maior resposta registrada foi: 999\n"
          ]
        }
      ]
    },
    {
      "cell_type": "markdown",
      "source": [
        "## Nível Intermediário – Reutilizando e organizando código"
      ],
      "metadata": {
        "id": "8xev1TqfqJ4l"
      }
    },
    {
      "cell_type": "markdown",
      "source": [
        "[texto do link](https:// [texto do link](https://))Aqui, o objetivo é não repetir código e aprender a organizar funções em módulos.\n",
        "\n",
        "### Exercício 3 – Frases motivacionais do ano (usando random)\n",
        "\n",
        "Uma empresa quer criar um sistema que sorteia uma frase motivacional por dia para seus funcionários.\n",
        "\n",
        "1. Gere o arquivo frases.txt, que contém 31 frases (uma para cada dia do mês).\n",
        "\n",
        "2. Escreva um programa que:\n",
        "\n",
        "a. Leia todas as frases do arquivo.\n",
        "\n",
        "b. Sorteie uma frase usando random.choice.\n",
        "\n",
        "c. Exiba a frase na tela.\n",
        "\n",
        "👉 Esse exercício mostra como reaproveitar grandes arquivos de texto em aplicações do dia a dia."
      ],
      "metadata": {
        "id": "_BlXz9o9qPML"
      }
    },
    {
      "cell_type": "code",
      "source": [],
      "metadata": {
        "id": "qyW-kUKYJctt"
      },
      "execution_count": null,
      "outputs": []
    },
    {
      "cell_type": "code",
      "source": [
        "# @title\n",
        "# Gera um arquivo frases.txt com 31 frases diferentes (sem numeração explícita).\n",
        "\n",
        "frases_diferentes = [\n",
        "    \"Acredite no seu potencial.\",\n",
        "    \"Você é mais forte do que imagina.\",\n",
        "    \"Cada dia é uma nova chance para recomeçar.\",\n",
        "    \"Pequenos passos também levam ao sucesso.\",\n",
        "    \"Confie no processo e siga em frente.\",\n",
        "    \"O aprendizado vem com a prática.\",\n",
        "    \"Não tenha medo de errar, tenha medo de não tentar.\",\n",
        "    \"A persistência supera o talento.\",\n",
        "    \"O impossível é apenas o possível que ainda não foi feito.\",\n",
        "    \"Você é capaz de coisas incríveis.\",\n",
        "    \"Celebre cada conquista, por menor que seja.\",\n",
        "    \"A jornada é tão importante quanto o destino.\",\n",
        "    \"A disciplina leva à liberdade.\",\n",
        "    \"Grandes mudanças começam com pequenas atitudes.\",\n",
        "    \"Seja constante, mesmo nos dias difíceis.\",\n",
        "    \"A coragem é o primeiro passo para a vitória.\",\n",
        "    \"Aprenda com os erros e siga adiante.\",\n",
        "    \"O sucesso é a soma de pequenos esforços repetidos diariamente.\",\n",
        "    \"Não espere motivação, crie disciplina.\",\n",
        "    \"Acredite: você já percorreu um longo caminho.\",\n",
        "    \"Foque no progresso, não na perfeição.\",\n",
        "    \"Sonhos grandes exigem esforço constante.\",\n",
        "    \"Não desista antes de tentar todas as possibilidades.\",\n",
        "    \"Você pode inspirar outras pessoas com sua dedicação.\",\n",
        "    \"Cada desafio é uma oportunidade disfarçada.\",\n",
        "    \"Nunca é tarde para aprender algo novo.\",\n",
        "    \"O futuro depende do que você faz hoje.\",\n",
        "    \"Seja paciente com seu crescimento.\",\n",
        "    \"Tenha orgulho de cada passo que você dá.\",\n",
        "    \"A determinação abre portas que o medo fecha.\",\n",
        "    \"Você já tem tudo o que precisa para começar.\"\n",
        "]\n",
        "\n",
        "# Salvando em frases.txt\n",
        "file_path_31 = \"frases.txt\"\n",
        "with open(file_path_31, \"w\", encoding=\"utf-8\") as f:\n",
        "    for frase in frases_diferentes:\n",
        "        f.write(frase + \"\\n\")\n",
        "\n",
        "file_path_31\n"
      ],
      "metadata": {
        "cellView": "form",
        "id": "iowJRN3JuEkO",
        "colab": {
          "base_uri": "https://localhost:8080/",
          "height": 36
        },
        "outputId": "8fd106cb-d8bc-4af1-bc61-e29b9ffe711c"
      },
      "execution_count": 14,
      "outputs": [
        {
          "output_type": "execute_result",
          "data": {
            "text/plain": [
              "'frases.txt'"
            ],
            "application/vnd.google.colaboratory.intrinsic+json": {
              "type": "string"
            }
          },
          "metadata": {},
          "execution_count": 14
        }
      ]
    },
    {
      "cell_type": "code",
      "source": [
        "# Lista de 31 frases motivacionais\n",
        "frases = [\n",
        "    \"Acredite no seu potencial.\",\n",
        "    \"Você é capaz de grandes conquistas.\",\n",
        "    \"Cada dia é uma nova chance.\",\n",
        "    \"Não desista, o sucesso está próximo.\",\n",
        "    \"Seja a mudança que você quer ver.\",\n",
        "    \"Coragem é seguir mesmo com medo.\",\n",
        "    \"Você faz a diferença.\",\n",
        "    \"Seu esforço será recompensado.\",\n",
        "    \"Confie no processo.\",\n",
        "    \"Você está evoluindo a cada passo.\",\n",
        "    \"Grandes jornadas começam com pequenos passos.\",\n",
        "    \"Persistência é a chave do sucesso.\",\n",
        "    \"Você é mais forte do que imagina.\",\n",
        "    \"Tudo começa com uma atitude positiva.\",\n",
        "    \"Seja gentil com você mesmo.\",\n",
        "    \"Você está no caminho certo.\",\n",
        "    \"A sua dedicação inspira.\",\n",
        "    \"Não há limites para quem acredita.\",\n",
        "    \"Você tem tudo que precisa para vencer.\",\n",
        "    \"A sua jornada é única e valiosa.\",\n",
        "    \"Aprenda com os erros e siga em frente.\",\n",
        "    \"Você é luz onde passa.\",\n",
        "    \"O esforço de hoje constrói o amanhã.\",\n",
        "    \"Seja constante, mesmo nos dias difíceis.\",\n",
        "    \"Você merece o melhor.\",\n",
        "    \"A sua energia transforma ambientes.\",\n",
        "    \"Acredite: você já venceu muito.\",\n",
        "    \"Você é exemplo de superação.\",\n",
        "    \"A sua força interior é imensa.\",\n",
        "    \"Continue, mesmo que devagar.\",\n",
        "    \"Você é inspiração para muitos.\"\n",
        "]\n",
        "\n",
        "# Salvar no arquivo frases.txt\n",
        "with open(\"frases.txt\", \"w\") as arquivo:\n",
        "    for frase in frases:\n",
        "        arquivo.write(frase + \"\\n\")\n",
        "\n",
        "print(\"Arquivo frases.txt criado com sucesso!\")"
      ],
      "metadata": {
        "id": "KePZe-9GqMBt",
        "colab": {
          "base_uri": "https://localhost:8080/"
        },
        "outputId": "841645af-d4c2-4eee-c270-4cbcc73326f5"
      },
      "execution_count": 15,
      "outputs": [
        {
          "output_type": "stream",
          "name": "stdout",
          "text": [
            "Arquivo frases.txt criado com sucesso!\n"
          ]
        }
      ]
    },
    {
      "cell_type": "code",
      "source": [
        "#  2: Organizar o código em funções reutilizáveis\n",
        "import random\n",
        "\n",
        "# Função para ler todas as frases do arquivo\n",
        "def ler_frases(caminho_arquivo):\n",
        "    with open(caminho_arquivo, \"r\") as arquivo:\n",
        "        return [linha.strip() for linha in arquivo.readlines()]\n",
        "\n",
        "# Função para sortear uma frase\n",
        "def sortear_frase(lista_frases):\n",
        "    return random.choice(lista_frases)\n",
        "\n",
        "# Função principal\n",
        "def exibir_frase_motivacional():\n",
        "    frases = ler_frases(\"frases.txt\")\n",
        "    frase_sorteada = sortear_frase(frases)\n",
        "    print(\"🌟 Frase motivacional do dia:\")\n",
        "    print(f\"👉 {frase_sorteada}\")\n",
        "\n",
        "# Executar\n",
        "exibir_frase_motivacional()"
      ],
      "metadata": {
        "colab": {
          "base_uri": "https://localhost:8080/"
        },
        "id": "STQmelItJxOe",
        "outputId": "84241d6b-1cfc-4602-bebf-3ce03443cf4f"
      },
      "execution_count": 16,
      "outputs": [
        {
          "output_type": "stream",
          "name": "stdout",
          "text": [
            "🌟 Frase motivacional do dia:\n",
            "👉 Acredite: você já venceu muito.\n"
          ]
        }
      ]
    },
    {
      "cell_type": "markdown",
      "source": [
        "### Exercício 4 – Criando um módulo de utilidades para arquivos\n",
        "\n",
        "Agora que já temos vários arquivos (`alunas.txt`, `numeros.txt`, `frases.txt`), vamos criar um **módulo** arquivos.py para facilitar a manipulação de arquivos.\n",
        "\n",
        "1. Esse módulo deve conter as seguintes funções:\n",
        "\n",
        "- `contar_caracteres(nome_arquivo)` → devolve o número total de caracteres do arquivo.\n",
        "\n",
        "- `contar_palavras(nome_arquivo)` → devolve a quantidade total de palavras no arquivo.\n",
        "\n",
        "- `ler_conteudo(nome_arquivo, qtd_linhas)` → lê e devolve apenas as primeiras N linhas do arquivo (N é definido pelo usuário).\n",
        "\n",
        "2. Teste cada função do módulo com os arquivos criados (`alunas.txt`, `numeros.txt`, `frases.txt`).\n",
        "\n",
        "👉 Isso mostra como modularizar código ajuda a organizar programas maiores."
      ],
      "metadata": {
        "id": "lVZ1IK8Wq7IW"
      }
    },
    {
      "cell_type": "code",
      "source": [
        "#criando o modulo arquivos.py\n",
        "with open(\"arquivos.py\", \"w\") as f:\n",
        "  f.write(\"\"\"\n",
        "def contar_caracteres(nome_arquivo):\n",
        "    with open(nome_arquivo, \"r\", encoding=\"utf-8\") as arquivo:\n",
        "        conteudo = arquivo.read()\n",
        "        return len(conteudo)\n",
        "\n",
        "def contar_palavras(nome_arquivo):\n",
        "    with open(nome_arquivo, \"r\", encoding=\"utf-8\") as arquivo:\n",
        "        conteudo = arquivo.read()\n",
        "        palavras = conteudo.split()\n",
        "        return len(palavras)\n",
        "\n",
        "def ler_conteudo(nome_arquivo, qtd_linhas):\n",
        "    with open(nome_arquivo, \"r\", encoding=\"utf-8\") as arquivo:\n",
        "        linhas = arquivo.readlines()\n",
        "        return linhas[:qtd_linhas]\n",
        "\"\"\")\n",
        "print(\"Módulo arquivos.py criado com sucesso!\")\n",
        "\n",
        "\n",
        "\n"
      ],
      "metadata": {
        "id": "YRzC43TmrYB4",
        "colab": {
          "base_uri": "https://localhost:8080/"
        },
        "outputId": "1f8ac1b6-0b74-483d-cd22-2aa01b28ab98"
      },
      "execution_count": 17,
      "outputs": [
        {
          "output_type": "stream",
          "name": "stdout",
          "text": [
            "Módulo arquivos.py criado com sucesso!\n"
          ]
        }
      ]
    },
    {
      "cell_type": "code",
      "source": [
        "#2: Importar e testar o módulo com seus arquivos\n",
        "# Importar o módulo\n",
        "import arquivos\n",
        "\n",
        "# Testar com alunas.txt\n",
        "print(\"🔹 alunas.txt\")\n",
        "print(\"Caracteres:\", arquivos.contar_caracteres(\"alunas.txt\"))\n",
        "print(\"Palavras:\", arquivos.contar_palavras(\"alunas.txt\"))\n",
        "print(\"Primeiras 3 linhas:\", arquivos.ler_conteudo(\"alunas.txt\", 3))\n",
        "\n",
        "# Testar com numeros.txt\n",
        "print(\"\\n🔹 numeros.txt\")\n",
        "print(\"Caracteres:\", arquivos.contar_caracteres(\"numeros.txt\"))\n",
        "print(\"Palavras:\", arquivos.contar_palavras(\"numeros.txt\"))\n",
        "print(\"Primeiras 5 linhas:\", arquivos.ler_conteudo(\"numeros.txt\", 5))\n",
        "\n",
        "# Testar com frases.txt\n",
        "print(\"\\n🔹 frases.txt\")\n",
        "print(\"Caracteres:\", arquivos.contar_caracteres(\"frases.txt\"))\n",
        "print(\"Palavras:\", arquivos.contar_palavras(\"frases.txt\"))\n",
        "print(\"Primeiras 2 linhas:\", arquivos.ler_conteudo(\"frases.txt\", 2))\n"
      ],
      "metadata": {
        "colab": {
          "base_uri": "https://localhost:8080/"
        },
        "id": "pbc5W3dSMr9b",
        "outputId": "68126c41-4790-450b-e0ed-e4fc4796d46a"
      },
      "execution_count": 18,
      "outputs": [
        {
          "output_type": "stream",
          "name": "stdout",
          "text": [
            "🔹 alunas.txt\n",
            "Caracteres: 683\n",
            "Palavras: 133\n",
            "Primeiras 3 linhas: ['Maria Fernanda Moreira - 6490\\n', 'Bianca Cassiano - 9686\\n', 'Zoe Macedo - 7798\\n']\n",
            "\n",
            "🔹 numeros.txt\n",
            "Caracteres: 776\n",
            "Palavras: 200\n",
            "Primeiras 5 linhas: ['991\\n', '631\\n', '889\\n', '969\\n', '538\\n']\n",
            "\n",
            "🔹 frases.txt\n",
            "Caracteres: 993\n",
            "Palavras: 171\n",
            "Primeiras 2 linhas: ['Acredite no seu potencial.\\n', 'Você é capaz de grandes conquistas.\\n']\n"
          ]
        }
      ]
    },
    {
      "cell_type": "markdown",
      "source": [
        "## Nível Avançado – Buscando informações na web"
      ],
      "metadata": {
        "id": "g1tr4FYlrYjN"
      }
    },
    {
      "cell_type": "markdown",
      "source": [
        "\n",
        "### Exercício 5 – Criando um módulo coletor de notícias (usando requests + BeautifulSoup)\n",
        "\n",
        "Você foi convidado a desenvolver um coletor de manchetes para um portal de notícias.\n",
        "\n",
        "1. Crie um módulo chamado coletor.py com pelo menos 4 funções:\n",
        "\n",
        "- `coletar_noticias(url)` → acessa a página indicada com requests e usa BeautifulSoup para coletar o título e o texto da nóticia. Cria um arquivo para salvar a noticia. Adiciona o título da noticia em um arquivo `noticias.txt`.\n",
        "\n",
        "- `ler_titulos(nome_arquivo)` → lê os títulos salvos e devolve como lista.\n",
        "\n",
        "- `gerar_relatorio()` → lê o arquivo `noticias.txt`, cria um relatório com: número total de títulos coletados; quantidade de palavras por título.\n",
        "Salve relatório em `relatorio.txt`.\n",
        "\n",
        "👉 Você pode usar como exemplo para raspagem o site: https://quotes.toscrape.com\n",
        "\n",
        "👉 Esse exercício mostra como Python pode ser usado em aplicações reais de web scraping e análise de texto."
      ],
      "metadata": {
        "id": "IiJ7w4Yz-muh"
      }
    },
    {
      "cell_type": "code",
      "source": [
        "#1: Criar o módulo coletor.py\n",
        "# Criando o módulo coletor.py\n",
        "with open(\"coletor.py\", \"w\", encoding=\"utf-8\") as f:\n",
        "    f.write(\"\"\"\n",
        "import requests\n",
        "from bs4 import BeautifulSoup\n",
        "\n",
        "def coletar_noticias(url):\n",
        "    resposta = requests.get(url)\n",
        "    soup = BeautifulSoup(resposta.text, 'html.parser')\n",
        "\n",
        "    # Coletar todas as frases como se fossem manchetes\n",
        "    frases = soup.find_all('span', class_='text')\n",
        "\n",
        "    for i, frase in enumerate(frases):\n",
        "        titulo = frase.get_text()\n",
        "\n",
        "        # Salvar cada frase em um arquivo separado\n",
        "        with open(f\"noticia_{i+1}.txt\", \"w\", encoding=\"utf-8\") as arquivo:\n",
        "            arquivo.write(titulo)\n",
        "\n",
        "        # Adicionar o título ao arquivo noticias.txt\n",
        "        with open(\"noticias.txt\", \"a\", encoding=\"utf-8\") as lista:\n",
        "            lista.write(titulo + \"\\\\n\")\n",
        "\n",
        "def ler_titulos(nome_arquivo):\n",
        "    with open(nome_arquivo, \"r\", encoding=\"utf-8\") as arquivo:\n",
        "        return [linha.strip() for linha in arquivo.readlines()]\n",
        "\n",
        "def gerar_relatorio():\n",
        "    titulos = ler_titulos(\"noticias.txt\")\n",
        "    total = len(titulos)\n",
        "\n",
        "    relatorio = f\"Total de títulos coletados: {total}\\\\n\\\\n\"\n",
        "    relatorio += \"Quantidade de palavras por título:\\\\n\"\n",
        "\n",
        "    for i, titulo in enumerate(titulos, start=1):\n",
        "        qtd_palavras = len(titulo.split())\n",
        "        relatorio += f\"{i}. {qtd_palavras} palavras\\\\n\"\n",
        "\n",
        "    with open(\"relatorio.txt\", \"w\", encoding=\"utf-8\") as arquivo:\n",
        "        arquivo.write(relatorio)\n",
        "\"\"\")\n",
        "print(\"✅ Módulo coletor.py criado com sucesso!\")\n"
      ],
      "metadata": {
        "id": "3NEzSZtTt0nt",
        "colab": {
          "base_uri": "https://localhost:8080/"
        },
        "outputId": "8a8d71b8-4cef-47aa-d2a1-168890532a38"
      },
      "execution_count": 19,
      "outputs": [
        {
          "output_type": "stream",
          "name": "stdout",
          "text": [
            "✅ Módulo coletor.py criado com sucesso!\n"
          ]
        }
      ]
    },
    {
      "cell_type": "code",
      "source": [
        "#2: Testar o módulo no Colab\n",
        "import coletor\n",
        "\n",
        "# Coletar manchetes (frases) do site\n",
        "coletor.coletar_noticias(\"https://quotes.toscrape.com\")\n",
        "\n",
        "# Ler os títulos salvos\n",
        "titulos = coletor.ler_titulos(\"noticias.txt\")\n",
        "print(\"🔹 Títulos coletados:\")\n",
        "for titulo in titulos:\n",
        "    print(\"-\", titulo)\n",
        "\n",
        "# Gerar relatório\n",
        "coletor.gerar_relatorio()\n",
        "print(\"📄 Relatório gerado em relatorio.txt\")"
      ],
      "metadata": {
        "colab": {
          "base_uri": "https://localhost:8080/"
        },
        "id": "7LDr9CSnQUZN",
        "outputId": "985633f1-19d2-428e-def7-3e2f383f0304"
      },
      "execution_count": 20,
      "outputs": [
        {
          "output_type": "stream",
          "name": "stdout",
          "text": [
            "🔹 Títulos coletados:\n",
            "- “The world as we have created it is a process of our thinking. It cannot be changed without changing our thinking.”\n",
            "- “It is our choices, Harry, that show what we truly are, far more than our abilities.”\n",
            "- “There are only two ways to live your life. One is as though nothing is a miracle. The other is as though everything is a miracle.”\n",
            "- “The person, be it gentleman or lady, who has not pleasure in a good novel, must be intolerably stupid.”\n",
            "- “Imperfection is beauty, madness is genius and it's better to be absolutely ridiculous than absolutely boring.”\n",
            "- “Try not to become a man of success. Rather become a man of value.”\n",
            "- “It is better to be hated for what you are than to be loved for what you are not.”\n",
            "- “I have not failed. I've just found 10,000 ways that won't work.”\n",
            "- “A woman is like a tea bag; you never know how strong it is until it's in hot water.”\n",
            "- “A day without sunshine is like, you know, night.”\n",
            "📄 Relatório gerado em relatorio.txt\n"
          ]
        }
      ]
    }
  ]
}